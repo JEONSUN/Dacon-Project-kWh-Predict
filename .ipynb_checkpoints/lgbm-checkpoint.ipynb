{
 "cells": [
  {
   "cell_type": "code",
   "execution_count": null,
   "metadata": {},
   "outputs": [],
   "source": [
    "%matplotlib inline\n",
    "\n",
    "import pandas as pd\n",
    "import numpy as np\n",
    "import matplotlib.pyplot as plt\n",
    "\n",
    "\n",
    "# 한글폰트 설정\n",
    "import platform\n",
    "\n",
    "from matplotlib import font_manager, rc\n",
    "plt.rcParams['axes.unicode_minus'] = False\n",
    "\n",
    "if platform.system() == 'Darwin':\n",
    "    rc('font', family='AppleGothic')\n",
    "    print('Mac version')\n",
    "elif platform.system() == 'Windows':\n",
    "    path = \"c:/Windows/Fonts/malgun.ttf\"\n",
    "    font_name = font_manager.FontProperties(fname=path).get_name()\n",
    "    rc('font', family=font_name)\n",
    "    print('Windows version')\n",
    "elif platform.system() == 'Linux':\n",
    "    path = \"/usr/share/fonts/NanumFont/NanumGothicBold.ttf\"\n",
    "    font_name = font_manager.FontProperties(fname=path).get_name()\n",
    "    plt.rc('font', family=font_name)\n",
    "    print('Linux version')\n",
    "else:\n",
    "    print('Unknown system... sorry~~~~')"
   ]
  },
  {
   "cell_type": "code",
   "execution_count": 1,
   "metadata": {},
   "outputs": [],
   "source": [
    "# 사용할 패키지\n",
    "import numpy as np\n",
    "import pandas as pd\n",
    "import matplotlib.pyplot as plt\n",
    "import seaborn as sns\n",
    "import warnings\n",
    "warnings.filterwarnings('ignore')\n",
    "from datetime import date"
   ]
  },
  {
   "cell_type": "code",
   "execution_count": 2,
   "metadata": {},
   "outputs": [],
   "source": [
    "# 데이터 불러오기\n",
    "root = \"./\"\n",
    "train_df = pd.read_csv(root+\"datasets/train.csv\", encoding = 'CP949')\n",
    "test_df = pd.read_csv(root+\"datasets/test.csv\", encoding = 'CP949')"
   ]
  },
  {
   "cell_type": "code",
   "execution_count": 59,
   "metadata": {},
   "outputs": [],
   "source": [
    "from sklearn.metrics import make_scorer  # loss function 커스터마이징\n",
    "# SMAPE 정의\n",
    "def smape(true, pred) :\n",
    "    true = np.array(true)\n",
    "    pred = np.array(pred)\n",
    "    return np.mean((np.abs(true-pred))/(np.abs(true) + np.abs(pred)))  # *2 , *100은 상수이므로 생략\n",
    "SMAPE = make_scorer(smape, greater_is_better=False)  # smape 값이 작아져야하므로 False"
   ]
  },
  {
   "cell_type": "code",
   "execution_count": 60,
   "metadata": {},
   "outputs": [],
   "source": [
    "# StratifiedKFold 기반 분리\n",
    "from sklearn.model_selection import StratifiedKFold\n",
    "splits = StratifiedKFold(n_splits = 5)"
   ]
  },
  {
   "cell_type": "code",
   "execution_count": 61,
   "metadata": {
    "scrolled": false
   },
   "outputs": [
    {
     "name": "stdout",
     "output_type": "stream",
     "text": [
      "-----1번째 교차검증-----\n",
      "X_train 교차검증 개수: \n",
      "97918\n",
      "y_train 교차검증 개수: \n",
      "46610\n",
      "\n",
      "-----2번째 교차검증-----\n",
      "X_train 교차검증 개수: \n",
      "97919\n",
      "y_train 교차검증 개수: \n",
      "46674\n",
      "\n",
      "-----3번째 교차검증-----\n",
      "X_train 교차검증 개수: \n",
      "97920\n",
      "y_train 교차검증 개수: \n",
      "46339\n",
      "\n",
      "-----4번째 교차검증-----\n",
      "X_train 교차검증 개수: \n",
      "97919\n",
      "y_train 교차검증 개수: \n",
      "46046\n",
      "\n",
      "-----5번째 교차검증-----\n",
      "X_train 교차검증 개수: \n",
      "97918\n",
      "y_train 교차검증 개수: \n",
      "45497\n",
      "\n"
     ]
    }
   ],
   "source": [
    "n_iter = 0\n",
    "for train_idx, valid_idx in splits.split(X,X['num']) :\n",
    "    n_iter += 1\n",
    "    X_train = X.iloc[train_idx, :]\n",
    "    y_train = y[train_idx]\n",
    "    \n",
    "    X_val = X.iloc[valid_idx, : ]\n",
    "    y_val = y[valid_idx]\n",
    "    print(\"-----{}번째 교차검증-----\".format(n_iter), end = '\\n')\n",
    "    print(\"X_train 교차검증 개수: \\n{}\".format(len(X_train.value_counts())),end = '\\n')\n",
    "    print(\"y_train 교차검증 개수: \\n{}\".format(len(y_train.value_counts())), end = '\\n\\n')"
   ]
  },
  {
   "cell_type": "code",
   "execution_count": 160,
   "metadata": {},
   "outputs": [],
   "source": [
    "# 하이퍼 파라미터 설정\n",
    "# 그리드 서치로 가장 좋은 하이퍼 파라미터 선정\n",
    "from lightgbm import LGBMRegressor\n",
    "from sklearn.model_selection import GridSearchCV\n",
    "\n",
    "param_grid = dict(n_estimators = [100,1000,10000], \n",
    "                  learning_rate = [0.1,0.01,0.001],\n",
    "                 max_depth = [-1,1000,10000])"
   ]
  },
  {
   "cell_type": "code",
   "execution_count": 161,
   "metadata": {},
   "outputs": [],
   "source": [
    "lgbm = LGBMRegressor()"
   ]
  },
  {
   "cell_type": "code",
   "execution_count": 162,
   "metadata": {
    "scrolled": false
   },
   "outputs": [
    {
     "name": "stdout",
     "output_type": "stream",
     "text": [
      "Fitting 5 folds for each of 27 candidates, totalling 135 fits\n",
      "[CV] learning_rate=0.1, max_depth=-1, n_estimators=100 ...............\n"
     ]
    },
    {
     "name": "stderr",
     "output_type": "stream",
     "text": [
      "[Parallel(n_jobs=1)]: Using backend SequentialBackend with 1 concurrent workers.\n"
     ]
    },
    {
     "name": "stdout",
     "output_type": "stream",
     "text": [
      "[CV]  learning_rate=0.1, max_depth=-1, n_estimators=100, total=   0.5s\n",
      "[CV] learning_rate=0.1, max_depth=-1, n_estimators=100 ...............\n"
     ]
    },
    {
     "name": "stderr",
     "output_type": "stream",
     "text": [
      "[Parallel(n_jobs=1)]: Done   1 out of   1 | elapsed:    0.4s remaining:    0.0s\n"
     ]
    },
    {
     "name": "stdout",
     "output_type": "stream",
     "text": [
      "[CV]  learning_rate=0.1, max_depth=-1, n_estimators=100, total=   0.5s\n",
      "[CV] learning_rate=0.1, max_depth=-1, n_estimators=100 ...............\n",
      "[CV]  learning_rate=0.1, max_depth=-1, n_estimators=100, total=   0.5s\n",
      "[CV] learning_rate=0.1, max_depth=-1, n_estimators=100 ...............\n",
      "[CV]  learning_rate=0.1, max_depth=-1, n_estimators=100, total=   0.4s\n",
      "[CV] learning_rate=0.1, max_depth=-1, n_estimators=100 ...............\n",
      "[CV]  learning_rate=0.1, max_depth=-1, n_estimators=100, total=   0.4s\n",
      "[CV] learning_rate=0.1, max_depth=-1, n_estimators=1000 ..............\n",
      "[CV]  learning_rate=0.1, max_depth=-1, n_estimators=1000, total=   2.6s\n",
      "[CV] learning_rate=0.1, max_depth=-1, n_estimators=1000 ..............\n",
      "[CV]  learning_rate=0.1, max_depth=-1, n_estimators=1000, total=   2.7s\n",
      "[CV] learning_rate=0.1, max_depth=-1, n_estimators=1000 ..............\n",
      "[CV]  learning_rate=0.1, max_depth=-1, n_estimators=1000, total=   2.5s\n",
      "[CV] learning_rate=0.1, max_depth=-1, n_estimators=1000 ..............\n",
      "[CV]  learning_rate=0.1, max_depth=-1, n_estimators=1000, total=   2.8s\n",
      "[CV] learning_rate=0.1, max_depth=-1, n_estimators=1000 ..............\n",
      "[CV]  learning_rate=0.1, max_depth=-1, n_estimators=1000, total=   3.3s\n",
      "[CV] learning_rate=0.1, max_depth=-1, n_estimators=10000 .............\n",
      "[CV]  learning_rate=0.1, max_depth=-1, n_estimators=10000, total=  29.0s\n",
      "[CV] learning_rate=0.1, max_depth=-1, n_estimators=10000 .............\n",
      "[CV]  learning_rate=0.1, max_depth=-1, n_estimators=10000, total=  27.7s\n",
      "[CV] learning_rate=0.1, max_depth=-1, n_estimators=10000 .............\n",
      "[CV]  learning_rate=0.1, max_depth=-1, n_estimators=10000, total=  24.4s\n",
      "[CV] learning_rate=0.1, max_depth=-1, n_estimators=10000 .............\n",
      "[CV]  learning_rate=0.1, max_depth=-1, n_estimators=10000, total=  26.2s\n",
      "[CV] learning_rate=0.1, max_depth=-1, n_estimators=10000 .............\n",
      "[CV]  learning_rate=0.1, max_depth=-1, n_estimators=10000, total=  30.5s\n",
      "[CV] learning_rate=0.1, max_depth=1000, n_estimators=100 .............\n",
      "[CV]  learning_rate=0.1, max_depth=1000, n_estimators=100, total=   0.5s\n",
      "[CV] learning_rate=0.1, max_depth=1000, n_estimators=100 .............\n",
      "[CV]  learning_rate=0.1, max_depth=1000, n_estimators=100, total=   0.6s\n",
      "[CV] learning_rate=0.1, max_depth=1000, n_estimators=100 .............\n",
      "[CV]  learning_rate=0.1, max_depth=1000, n_estimators=100, total=   0.6s\n",
      "[CV] learning_rate=0.1, max_depth=1000, n_estimators=100 .............\n",
      "[CV]  learning_rate=0.1, max_depth=1000, n_estimators=100, total=   0.5s\n",
      "[CV] learning_rate=0.1, max_depth=1000, n_estimators=100 .............\n",
      "[CV]  learning_rate=0.1, max_depth=1000, n_estimators=100, total=   0.5s\n",
      "[CV] learning_rate=0.1, max_depth=1000, n_estimators=1000 ............\n",
      "[CV]  learning_rate=0.1, max_depth=1000, n_estimators=1000, total=   3.1s\n",
      "[CV] learning_rate=0.1, max_depth=1000, n_estimators=1000 ............\n",
      "[CV]  learning_rate=0.1, max_depth=1000, n_estimators=1000, total=   3.4s\n",
      "[CV] learning_rate=0.1, max_depth=1000, n_estimators=1000 ............\n",
      "[CV]  learning_rate=0.1, max_depth=1000, n_estimators=1000, total=   3.1s\n",
      "[CV] learning_rate=0.1, max_depth=1000, n_estimators=1000 ............\n",
      "[CV]  learning_rate=0.1, max_depth=1000, n_estimators=1000, total=   2.8s\n",
      "[CV] learning_rate=0.1, max_depth=1000, n_estimators=1000 ............\n",
      "[CV]  learning_rate=0.1, max_depth=1000, n_estimators=1000, total=   2.8s\n",
      "[CV] learning_rate=0.1, max_depth=1000, n_estimators=10000 ...........\n",
      "[CV]  learning_rate=0.1, max_depth=1000, n_estimators=10000, total=  26.7s\n",
      "[CV] learning_rate=0.1, max_depth=1000, n_estimators=10000 ...........\n",
      "[CV]  learning_rate=0.1, max_depth=1000, n_estimators=10000, total=  30.3s\n",
      "[CV] learning_rate=0.1, max_depth=1000, n_estimators=10000 ...........\n",
      "[CV]  learning_rate=0.1, max_depth=1000, n_estimators=10000, total=  27.8s\n",
      "[CV] learning_rate=0.1, max_depth=1000, n_estimators=10000 ...........\n",
      "[CV]  learning_rate=0.1, max_depth=1000, n_estimators=10000, total=  30.8s\n",
      "[CV] learning_rate=0.1, max_depth=1000, n_estimators=10000 ...........\n",
      "[CV]  learning_rate=0.1, max_depth=1000, n_estimators=10000, total=  29.5s\n",
      "[CV] learning_rate=0.1, max_depth=10000, n_estimators=100 ............\n",
      "[CV]  learning_rate=0.1, max_depth=10000, n_estimators=100, total=   0.5s\n",
      "[CV] learning_rate=0.1, max_depth=10000, n_estimators=100 ............\n",
      "[CV]  learning_rate=0.1, max_depth=10000, n_estimators=100, total=   0.5s\n",
      "[CV] learning_rate=0.1, max_depth=10000, n_estimators=100 ............\n",
      "[CV]  learning_rate=0.1, max_depth=10000, n_estimators=100, total=   0.6s\n",
      "[CV] learning_rate=0.1, max_depth=10000, n_estimators=100 ............\n",
      "[CV]  learning_rate=0.1, max_depth=10000, n_estimators=100, total=   0.5s\n",
      "[CV] learning_rate=0.1, max_depth=10000, n_estimators=100 ............\n",
      "[CV]  learning_rate=0.1, max_depth=10000, n_estimators=100, total=   0.5s\n",
      "[CV] learning_rate=0.1, max_depth=10000, n_estimators=1000 ...........\n",
      "[CV]  learning_rate=0.1, max_depth=10000, n_estimators=1000, total=   2.8s\n",
      "[CV] learning_rate=0.1, max_depth=10000, n_estimators=1000 ...........\n",
      "[CV]  learning_rate=0.1, max_depth=10000, n_estimators=1000, total=   3.2s\n",
      "[CV] learning_rate=0.1, max_depth=10000, n_estimators=1000 ...........\n",
      "[CV]  learning_rate=0.1, max_depth=10000, n_estimators=1000, total=   2.8s\n",
      "[CV] learning_rate=0.1, max_depth=10000, n_estimators=1000 ...........\n",
      "[CV]  learning_rate=0.1, max_depth=10000, n_estimators=1000, total=   3.2s\n",
      "[CV] learning_rate=0.1, max_depth=10000, n_estimators=1000 ...........\n",
      "[CV]  learning_rate=0.1, max_depth=10000, n_estimators=1000, total=   3.2s\n",
      "[CV] learning_rate=0.1, max_depth=10000, n_estimators=10000 ..........\n",
      "[CV]  learning_rate=0.1, max_depth=10000, n_estimators=10000, total=  30.8s\n",
      "[CV] learning_rate=0.1, max_depth=10000, n_estimators=10000 ..........\n",
      "[CV]  learning_rate=0.1, max_depth=10000, n_estimators=10000, total=  27.2s\n",
      "[CV] learning_rate=0.1, max_depth=10000, n_estimators=10000 ..........\n",
      "[CV]  learning_rate=0.1, max_depth=10000, n_estimators=10000, total=  26.7s\n",
      "[CV] learning_rate=0.1, max_depth=10000, n_estimators=10000 ..........\n",
      "[CV]  learning_rate=0.1, max_depth=10000, n_estimators=10000, total=  26.7s\n",
      "[CV] learning_rate=0.1, max_depth=10000, n_estimators=10000 ..........\n",
      "[CV]  learning_rate=0.1, max_depth=10000, n_estimators=10000, total=  28.1s\n",
      "[CV] learning_rate=0.01, max_depth=-1, n_estimators=100 ..............\n",
      "[CV]  learning_rate=0.01, max_depth=-1, n_estimators=100, total=   0.5s\n",
      "[CV] learning_rate=0.01, max_depth=-1, n_estimators=100 ..............\n",
      "[CV]  learning_rate=0.01, max_depth=-1, n_estimators=100, total=   0.5s\n",
      "[CV] learning_rate=0.01, max_depth=-1, n_estimators=100 ..............\n",
      "[CV]  learning_rate=0.01, max_depth=-1, n_estimators=100, total=   0.5s\n",
      "[CV] learning_rate=0.01, max_depth=-1, n_estimators=100 ..............\n",
      "[CV]  learning_rate=0.01, max_depth=-1, n_estimators=100, total=   0.5s\n",
      "[CV] learning_rate=0.01, max_depth=-1, n_estimators=100 ..............\n",
      "[CV]  learning_rate=0.01, max_depth=-1, n_estimators=100, total=   0.5s\n",
      "[CV] learning_rate=0.01, max_depth=-1, n_estimators=1000 .............\n",
      "[CV]  learning_rate=0.01, max_depth=-1, n_estimators=1000, total=   3.6s\n",
      "[CV] learning_rate=0.01, max_depth=-1, n_estimators=1000 .............\n",
      "[CV]  learning_rate=0.01, max_depth=-1, n_estimators=1000, total=   3.7s\n",
      "[CV] learning_rate=0.01, max_depth=-1, n_estimators=1000 .............\n",
      "[CV]  learning_rate=0.01, max_depth=-1, n_estimators=1000, total=   3.7s\n",
      "[CV] learning_rate=0.01, max_depth=-1, n_estimators=1000 .............\n",
      "[CV]  learning_rate=0.01, max_depth=-1, n_estimators=1000, total=   3.4s\n",
      "[CV] learning_rate=0.01, max_depth=-1, n_estimators=1000 .............\n",
      "[CV]  learning_rate=0.01, max_depth=-1, n_estimators=1000, total=   3.7s\n",
      "[CV] learning_rate=0.01, max_depth=-1, n_estimators=10000 ............\n",
      "[CV]  learning_rate=0.01, max_depth=-1, n_estimators=10000, total=  32.3s\n",
      "[CV] learning_rate=0.01, max_depth=-1, n_estimators=10000 ............\n",
      "[CV]  learning_rate=0.01, max_depth=-1, n_estimators=10000, total=  34.0s\n",
      "[CV] learning_rate=0.01, max_depth=-1, n_estimators=10000 ............\n",
      "[CV]  learning_rate=0.01, max_depth=-1, n_estimators=10000, total=  47.3s\n",
      "[CV] learning_rate=0.01, max_depth=-1, n_estimators=10000 ............\n"
     ]
    },
    {
     "name": "stdout",
     "output_type": "stream",
     "text": [
      "[CV]  learning_rate=0.01, max_depth=-1, n_estimators=10000, total=  29.6s\n",
      "[CV] learning_rate=0.01, max_depth=-1, n_estimators=10000 ............\n",
      "[CV]  learning_rate=0.01, max_depth=-1, n_estimators=10000, total=  30.4s\n",
      "[CV] learning_rate=0.01, max_depth=1000, n_estimators=100 ............\n",
      "[CV]  learning_rate=0.01, max_depth=1000, n_estimators=100, total=   0.6s\n",
      "[CV] learning_rate=0.01, max_depth=1000, n_estimators=100 ............\n",
      "[CV]  learning_rate=0.01, max_depth=1000, n_estimators=100, total=   0.5s\n",
      "[CV] learning_rate=0.01, max_depth=1000, n_estimators=100 ............\n",
      "[CV]  learning_rate=0.01, max_depth=1000, n_estimators=100, total=   0.6s\n",
      "[CV] learning_rate=0.01, max_depth=1000, n_estimators=100 ............\n",
      "[CV]  learning_rate=0.01, max_depth=1000, n_estimators=100, total=   0.5s\n",
      "[CV] learning_rate=0.01, max_depth=1000, n_estimators=100 ............\n",
      "[CV]  learning_rate=0.01, max_depth=1000, n_estimators=100, total=   0.5s\n",
      "[CV] learning_rate=0.01, max_depth=1000, n_estimators=1000 ...........\n",
      "[CV]  learning_rate=0.01, max_depth=1000, n_estimators=1000, total=   3.7s\n",
      "[CV] learning_rate=0.01, max_depth=1000, n_estimators=1000 ...........\n",
      "[CV]  learning_rate=0.01, max_depth=1000, n_estimators=1000, total=   3.8s\n",
      "[CV] learning_rate=0.01, max_depth=1000, n_estimators=1000 ...........\n",
      "[CV]  learning_rate=0.01, max_depth=1000, n_estimators=1000, total=   3.6s\n",
      "[CV] learning_rate=0.01, max_depth=1000, n_estimators=1000 ...........\n",
      "[CV]  learning_rate=0.01, max_depth=1000, n_estimators=1000, total=   3.6s\n",
      "[CV] learning_rate=0.01, max_depth=1000, n_estimators=1000 ...........\n",
      "[CV]  learning_rate=0.01, max_depth=1000, n_estimators=1000, total=   4.2s\n",
      "[CV] learning_rate=0.01, max_depth=1000, n_estimators=10000 ..........\n",
      "[CV]  learning_rate=0.01, max_depth=1000, n_estimators=10000, total=  32.5s\n",
      "[CV] learning_rate=0.01, max_depth=1000, n_estimators=10000 ..........\n",
      "[CV]  learning_rate=0.01, max_depth=1000, n_estimators=10000, total=  37.6s\n",
      "[CV] learning_rate=0.01, max_depth=1000, n_estimators=10000 ..........\n",
      "[CV]  learning_rate=0.01, max_depth=1000, n_estimators=10000, total=  30.3s\n",
      "[CV] learning_rate=0.01, max_depth=1000, n_estimators=10000 ..........\n",
      "[CV]  learning_rate=0.01, max_depth=1000, n_estimators=10000, total=  30.6s\n",
      "[CV] learning_rate=0.01, max_depth=1000, n_estimators=10000 ..........\n",
      "[CV]  learning_rate=0.01, max_depth=1000, n_estimators=10000, total=  32.0s\n",
      "[CV] learning_rate=0.01, max_depth=10000, n_estimators=100 ...........\n",
      "[CV]  learning_rate=0.01, max_depth=10000, n_estimators=100, total=   0.5s\n",
      "[CV] learning_rate=0.01, max_depth=10000, n_estimators=100 ...........\n",
      "[CV]  learning_rate=0.01, max_depth=10000, n_estimators=100, total=   0.5s\n",
      "[CV] learning_rate=0.01, max_depth=10000, n_estimators=100 ...........\n",
      "[CV]  learning_rate=0.01, max_depth=10000, n_estimators=100, total=   0.6s\n",
      "[CV] learning_rate=0.01, max_depth=10000, n_estimators=100 ...........\n",
      "[CV]  learning_rate=0.01, max_depth=10000, n_estimators=100, total=   0.5s\n",
      "[CV] learning_rate=0.01, max_depth=10000, n_estimators=100 ...........\n",
      "[CV]  learning_rate=0.01, max_depth=10000, n_estimators=100, total=   0.6s\n",
      "[CV] learning_rate=0.01, max_depth=10000, n_estimators=1000 ..........\n",
      "[CV]  learning_rate=0.01, max_depth=10000, n_estimators=1000, total=   3.8s\n",
      "[CV] learning_rate=0.01, max_depth=10000, n_estimators=1000 ..........\n",
      "[CV]  learning_rate=0.01, max_depth=10000, n_estimators=1000, total=   3.6s\n",
      "[CV] learning_rate=0.01, max_depth=10000, n_estimators=1000 ..........\n",
      "[CV]  learning_rate=0.01, max_depth=10000, n_estimators=1000, total=   4.2s\n",
      "[CV] learning_rate=0.01, max_depth=10000, n_estimators=1000 ..........\n",
      "[CV]  learning_rate=0.01, max_depth=10000, n_estimators=1000, total=   3.7s\n",
      "[CV] learning_rate=0.01, max_depth=10000, n_estimators=1000 ..........\n",
      "[CV]  learning_rate=0.01, max_depth=10000, n_estimators=1000, total=   4.3s\n",
      "[CV] learning_rate=0.01, max_depth=10000, n_estimators=10000 .........\n",
      "[CV]  learning_rate=0.01, max_depth=10000, n_estimators=10000, total=  33.5s\n",
      "[CV] learning_rate=0.01, max_depth=10000, n_estimators=10000 .........\n",
      "[CV]  learning_rate=0.01, max_depth=10000, n_estimators=10000, total=  32.3s\n",
      "[CV] learning_rate=0.01, max_depth=10000, n_estimators=10000 .........\n",
      "[CV]  learning_rate=0.01, max_depth=10000, n_estimators=10000, total=  29.5s\n",
      "[CV] learning_rate=0.01, max_depth=10000, n_estimators=10000 .........\n",
      "[CV]  learning_rate=0.01, max_depth=10000, n_estimators=10000, total=  29.8s\n",
      "[CV] learning_rate=0.01, max_depth=10000, n_estimators=10000 .........\n",
      "[CV]  learning_rate=0.01, max_depth=10000, n_estimators=10000, total=  30.4s\n",
      "[CV] learning_rate=0.001, max_depth=-1, n_estimators=100 .............\n",
      "[CV]  learning_rate=0.001, max_depth=-1, n_estimators=100, total=   0.5s\n",
      "[CV] learning_rate=0.001, max_depth=-1, n_estimators=100 .............\n",
      "[CV]  learning_rate=0.001, max_depth=-1, n_estimators=100, total=   0.5s\n",
      "[CV] learning_rate=0.001, max_depth=-1, n_estimators=100 .............\n",
      "[CV]  learning_rate=0.001, max_depth=-1, n_estimators=100, total=   0.5s\n",
      "[CV] learning_rate=0.001, max_depth=-1, n_estimators=100 .............\n",
      "[CV]  learning_rate=0.001, max_depth=-1, n_estimators=100, total=   0.5s\n",
      "[CV] learning_rate=0.001, max_depth=-1, n_estimators=100 .............\n",
      "[CV]  learning_rate=0.001, max_depth=-1, n_estimators=100, total=   0.5s\n",
      "[CV] learning_rate=0.001, max_depth=-1, n_estimators=1000 ............\n",
      "[CV]  learning_rate=0.001, max_depth=-1, n_estimators=1000, total=   3.7s\n",
      "[CV] learning_rate=0.001, max_depth=-1, n_estimators=1000 ............\n",
      "[CV]  learning_rate=0.001, max_depth=-1, n_estimators=1000, total=   3.8s\n",
      "[CV] learning_rate=0.001, max_depth=-1, n_estimators=1000 ............\n",
      "[CV]  learning_rate=0.001, max_depth=-1, n_estimators=1000, total=   3.7s\n",
      "[CV] learning_rate=0.001, max_depth=-1, n_estimators=1000 ............\n",
      "[CV]  learning_rate=0.001, max_depth=-1, n_estimators=1000, total=   3.9s\n",
      "[CV] learning_rate=0.001, max_depth=-1, n_estimators=1000 ............\n",
      "[CV]  learning_rate=0.001, max_depth=-1, n_estimators=1000, total=   3.9s\n",
      "[CV] learning_rate=0.001, max_depth=-1, n_estimators=10000 ...........\n",
      "[CV]  learning_rate=0.001, max_depth=-1, n_estimators=10000, total=  39.3s\n",
      "[CV] learning_rate=0.001, max_depth=-1, n_estimators=10000 ...........\n",
      "[CV]  learning_rate=0.001, max_depth=-1, n_estimators=10000, total=  39.9s\n",
      "[CV] learning_rate=0.001, max_depth=-1, n_estimators=10000 ...........\n",
      "[CV]  learning_rate=0.001, max_depth=-1, n_estimators=10000, total=  38.2s\n",
      "[CV] learning_rate=0.001, max_depth=-1, n_estimators=10000 ...........\n",
      "[CV]  learning_rate=0.001, max_depth=-1, n_estimators=10000, total=  42.1s\n",
      "[CV] learning_rate=0.001, max_depth=-1, n_estimators=10000 ...........\n",
      "[CV]  learning_rate=0.001, max_depth=-1, n_estimators=10000, total=  40.3s\n",
      "[CV] learning_rate=0.001, max_depth=1000, n_estimators=100 ...........\n",
      "[CV]  learning_rate=0.001, max_depth=1000, n_estimators=100, total=   0.5s\n",
      "[CV] learning_rate=0.001, max_depth=1000, n_estimators=100 ...........\n",
      "[CV]  learning_rate=0.001, max_depth=1000, n_estimators=100, total=   0.6s\n",
      "[CV] learning_rate=0.001, max_depth=1000, n_estimators=100 ...........\n",
      "[CV]  learning_rate=0.001, max_depth=1000, n_estimators=100, total=   0.5s\n",
      "[CV] learning_rate=0.001, max_depth=1000, n_estimators=100 ...........\n",
      "[CV]  learning_rate=0.001, max_depth=1000, n_estimators=100, total=   0.5s\n",
      "[CV] learning_rate=0.001, max_depth=1000, n_estimators=100 ...........\n",
      "[CV]  learning_rate=0.001, max_depth=1000, n_estimators=100, total=   0.5s\n",
      "[CV] learning_rate=0.001, max_depth=1000, n_estimators=1000 ..........\n",
      "[CV]  learning_rate=0.001, max_depth=1000, n_estimators=1000, total=   4.0s\n",
      "[CV] learning_rate=0.001, max_depth=1000, n_estimators=1000 ..........\n",
      "[CV]  learning_rate=0.001, max_depth=1000, n_estimators=1000, total=   3.9s\n",
      "[CV] learning_rate=0.001, max_depth=1000, n_estimators=1000 ..........\n",
      "[CV]  learning_rate=0.001, max_depth=1000, n_estimators=1000, total=   3.6s\n",
      "[CV] learning_rate=0.001, max_depth=1000, n_estimators=1000 ..........\n",
      "[CV]  learning_rate=0.001, max_depth=1000, n_estimators=1000, total=   3.6s\n",
      "[CV] learning_rate=0.001, max_depth=1000, n_estimators=1000 ..........\n",
      "[CV]  learning_rate=0.001, max_depth=1000, n_estimators=1000, total=   3.9s\n",
      "[CV] learning_rate=0.001, max_depth=1000, n_estimators=10000 .........\n"
     ]
    },
    {
     "name": "stdout",
     "output_type": "stream",
     "text": [
      "[CV]  learning_rate=0.001, max_depth=1000, n_estimators=10000, total=  37.0s\n",
      "[CV] learning_rate=0.001, max_depth=1000, n_estimators=10000 .........\n",
      "[CV]  learning_rate=0.001, max_depth=1000, n_estimators=10000, total=  38.9s\n",
      "[CV] learning_rate=0.001, max_depth=1000, n_estimators=10000 .........\n",
      "[CV]  learning_rate=0.001, max_depth=1000, n_estimators=10000, total=  35.9s\n",
      "[CV] learning_rate=0.001, max_depth=1000, n_estimators=10000 .........\n",
      "[CV]  learning_rate=0.001, max_depth=1000, n_estimators=10000, total=  35.1s\n",
      "[CV] learning_rate=0.001, max_depth=1000, n_estimators=10000 .........\n",
      "[CV]  learning_rate=0.001, max_depth=1000, n_estimators=10000, total=  35.6s\n",
      "[CV] learning_rate=0.001, max_depth=10000, n_estimators=100 ..........\n",
      "[CV]  learning_rate=0.001, max_depth=10000, n_estimators=100, total=   0.5s\n",
      "[CV] learning_rate=0.001, max_depth=10000, n_estimators=100 ..........\n",
      "[CV]  learning_rate=0.001, max_depth=10000, n_estimators=100, total=   0.5s\n",
      "[CV] learning_rate=0.001, max_depth=10000, n_estimators=100 ..........\n",
      "[CV]  learning_rate=0.001, max_depth=10000, n_estimators=100, total=   0.5s\n",
      "[CV] learning_rate=0.001, max_depth=10000, n_estimators=100 ..........\n",
      "[CV]  learning_rate=0.001, max_depth=10000, n_estimators=100, total=   0.5s\n",
      "[CV] learning_rate=0.001, max_depth=10000, n_estimators=100 ..........\n",
      "[CV]  learning_rate=0.001, max_depth=10000, n_estimators=100, total=   0.5s\n",
      "[CV] learning_rate=0.001, max_depth=10000, n_estimators=1000 .........\n",
      "[CV]  learning_rate=0.001, max_depth=10000, n_estimators=1000, total=   3.5s\n",
      "[CV] learning_rate=0.001, max_depth=10000, n_estimators=1000 .........\n",
      "[CV]  learning_rate=0.001, max_depth=10000, n_estimators=1000, total=   3.8s\n",
      "[CV] learning_rate=0.001, max_depth=10000, n_estimators=1000 .........\n",
      "[CV]  learning_rate=0.001, max_depth=10000, n_estimators=1000, total=   3.5s\n",
      "[CV] learning_rate=0.001, max_depth=10000, n_estimators=1000 .........\n",
      "[CV]  learning_rate=0.001, max_depth=10000, n_estimators=1000, total=   3.7s\n",
      "[CV] learning_rate=0.001, max_depth=10000, n_estimators=1000 .........\n",
      "[CV]  learning_rate=0.001, max_depth=10000, n_estimators=1000, total=   3.8s\n",
      "[CV] learning_rate=0.001, max_depth=10000, n_estimators=10000 ........\n",
      "[CV]  learning_rate=0.001, max_depth=10000, n_estimators=10000, total=  36.3s\n",
      "[CV] learning_rate=0.001, max_depth=10000, n_estimators=10000 ........\n",
      "[CV]  learning_rate=0.001, max_depth=10000, n_estimators=10000, total=  36.3s\n",
      "[CV] learning_rate=0.001, max_depth=10000, n_estimators=10000 ........\n",
      "[CV]  learning_rate=0.001, max_depth=10000, n_estimators=10000, total=  37.3s\n",
      "[CV] learning_rate=0.001, max_depth=10000, n_estimators=10000 ........\n",
      "[CV]  learning_rate=0.001, max_depth=10000, n_estimators=10000, total=  41.7s\n",
      "[CV] learning_rate=0.001, max_depth=10000, n_estimators=10000 ........\n",
      "[CV]  learning_rate=0.001, max_depth=10000, n_estimators=10000, total=  36.1s\n"
     ]
    },
    {
     "name": "stderr",
     "output_type": "stream",
     "text": [
      "[Parallel(n_jobs=1)]: Done 135 out of 135 | elapsed: 27.8min finished\n"
     ]
    },
    {
     "data": {
      "text/plain": [
       "GridSearchCV(cv=5, estimator=LGBMRegressor(),\n",
       "             param_grid={'learning_rate': [0.1, 0.01, 0.001],\n",
       "                         'max_depth': [-1, 1000, 10000],\n",
       "                         'n_estimators': [100, 1000, 10000]},\n",
       "             scoring=make_scorer(smape, greater_is_better=False), verbose=2)"
      ]
     },
     "execution_count": 162,
     "metadata": {},
     "output_type": "execute_result"
    }
   ],
   "source": [
    "grid_lgbm = GridSearchCV(lgbm, param_grid, cv = 5, verbose = 2, scoring = SMAPE, early_stopping_round = 100)\n",
    "grid_lgbm.fit(X_train,y_train)"
   ]
  },
  {
   "cell_type": "code",
   "execution_count": 163,
   "metadata": {
    "scrolled": false
   },
   "outputs": [
    {
     "name": "stdout",
     "output_type": "stream",
     "text": [
      "{'learning_rate': 0.01, 'max_depth': -1, 'n_estimators': 1000}\n",
      "-0.2548294163788317\n"
     ]
    }
   ],
   "source": [
    "# 최적의 하이퍼 파라미터\n",
    "print(grid_lgbm.best_params_)\n",
    "print(grid_lgbm.best_score_)"
   ]
  },
  {
   "cell_type": "code",
   "execution_count": 164,
   "metadata": {},
   "outputs": [
    {
     "data": {
      "text/plain": [
       "-0.07978504095978617"
      ]
     },
     "execution_count": 164,
     "metadata": {},
     "output_type": "execute_result"
    }
   ],
   "source": [
    "# 성능\n",
    "grid_lgbm.score(X_val,y_val)"
   ]
  },
  {
   "cell_type": "code",
   "execution_count": 168,
   "metadata": {},
   "outputs": [],
   "source": [
    "best_estimator = grid_lgbm.best_estimator_"
   ]
  },
  {
   "cell_type": "code",
   "execution_count": 169,
   "metadata": {},
   "outputs": [
    {
     "data": {
      "text/plain": [
       "LGBMRegressor(learning_rate=0.01, n_estimators=1000)"
      ]
     },
     "execution_count": 169,
     "metadata": {},
     "output_type": "execute_result"
    }
   ],
   "source": [
    "best_estimator"
   ]
  },
  {
   "cell_type": "markdown",
   "metadata": {},
   "source": [
    "학습률 0.01, 노드 개수 1000개일 때 가장 점수가 높게 나타났다."
   ]
  },
  {
   "cell_type": "code",
   "execution_count": 170,
   "metadata": {},
   "outputs": [],
   "source": [
    "# 다른 성능 지표로도 확인\n",
    "from sklearn.metrics import mean_squared_error, r2_score\n",
    "y_pred = best_estimator.predict(X_train)\n",
    "\n",
    "\n",
    "mse_score = mean_squared_error(y_train, y_pred)\n",
    "r2_score = r2_score(y_train, y_pred)"
   ]
  },
  {
   "cell_type": "code",
   "execution_count": 171,
   "metadata": {},
   "outputs": [
    {
     "name": "stdout",
     "output_type": "stream",
     "text": [
      "MSE: 84554.92261442683\n",
      "R2 : 0.9793812480214279\n"
     ]
    }
   ],
   "source": [
    "print('MSE:', mse_score)\n",
    "print('R2 :', r2_score)"
   ]
  },
  {
   "cell_type": "code",
   "execution_count": 172,
   "metadata": {},
   "outputs": [
    {
     "data": {
      "text/html": [
       "<div>\n",
       "<style scoped>\n",
       "    .dataframe tbody tr th:only-of-type {\n",
       "        vertical-align: middle;\n",
       "    }\n",
       "\n",
       "    .dataframe tbody tr th {\n",
       "        vertical-align: top;\n",
       "    }\n",
       "\n",
       "    .dataframe thead th {\n",
       "        text-align: right;\n",
       "    }\n",
       "</style>\n",
       "<table border=\"1\" class=\"dataframe\">\n",
       "  <thead>\n",
       "    <tr style=\"text-align: right;\">\n",
       "      <th></th>\n",
       "      <th>num</th>\n",
       "      <th>기온</th>\n",
       "      <th>풍속</th>\n",
       "      <th>습도</th>\n",
       "      <th>강수량</th>\n",
       "      <th>일조</th>\n",
       "      <th>비전기냉방설비운영</th>\n",
       "      <th>태양광보유</th>\n",
       "      <th>hour</th>\n",
       "      <th>week</th>\n",
       "      <th>weekend</th>\n",
       "      <th>pred</th>\n",
       "    </tr>\n",
       "  </thead>\n",
       "  <tbody>\n",
       "    <tr>\n",
       "      <th>0</th>\n",
       "      <td>1</td>\n",
       "      <td>27.800000</td>\n",
       "      <td>1.500000</td>\n",
       "      <td>74.000000</td>\n",
       "      <td>0.0</td>\n",
       "      <td>0.0</td>\n",
       "      <td>0.0</td>\n",
       "      <td>0.0</td>\n",
       "      <td>0</td>\n",
       "      <td>1</td>\n",
       "      <td>0</td>\n",
       "      <td>1</td>\n",
       "    </tr>\n",
       "    <tr>\n",
       "      <th>1</th>\n",
       "      <td>1</td>\n",
       "      <td>27.633333</td>\n",
       "      <td>1.366667</td>\n",
       "      <td>75.333333</td>\n",
       "      <td>0.0</td>\n",
       "      <td>0.0</td>\n",
       "      <td>0.0</td>\n",
       "      <td>0.0</td>\n",
       "      <td>1</td>\n",
       "      <td>1</td>\n",
       "      <td>0</td>\n",
       "      <td>1</td>\n",
       "    </tr>\n",
       "    <tr>\n",
       "      <th>2</th>\n",
       "      <td>1</td>\n",
       "      <td>27.466667</td>\n",
       "      <td>1.233333</td>\n",
       "      <td>76.666667</td>\n",
       "      <td>0.0</td>\n",
       "      <td>0.0</td>\n",
       "      <td>0.0</td>\n",
       "      <td>0.0</td>\n",
       "      <td>2</td>\n",
       "      <td>1</td>\n",
       "      <td>0</td>\n",
       "      <td>1</td>\n",
       "    </tr>\n",
       "    <tr>\n",
       "      <th>3</th>\n",
       "      <td>1</td>\n",
       "      <td>27.300000</td>\n",
       "      <td>1.100000</td>\n",
       "      <td>78.000000</td>\n",
       "      <td>0.0</td>\n",
       "      <td>0.0</td>\n",
       "      <td>0.0</td>\n",
       "      <td>0.0</td>\n",
       "      <td>3</td>\n",
       "      <td>1</td>\n",
       "      <td>0</td>\n",
       "      <td>1</td>\n",
       "    </tr>\n",
       "    <tr>\n",
       "      <th>4</th>\n",
       "      <td>1</td>\n",
       "      <td>26.900000</td>\n",
       "      <td>1.166667</td>\n",
       "      <td>79.666667</td>\n",
       "      <td>0.0</td>\n",
       "      <td>0.0</td>\n",
       "      <td>0.0</td>\n",
       "      <td>0.0</td>\n",
       "      <td>4</td>\n",
       "      <td>1</td>\n",
       "      <td>0</td>\n",
       "      <td>1</td>\n",
       "    </tr>\n",
       "  </tbody>\n",
       "</table>\n",
       "</div>"
      ],
      "text/plain": [
       "   num         기온        풍속         습도  강수량   일조  비전기냉방설비운영  태양광보유  hour  \\\n",
       "0    1  27.800000  1.500000  74.000000  0.0  0.0        0.0    0.0     0   \n",
       "1    1  27.633333  1.366667  75.333333  0.0  0.0        0.0    0.0     1   \n",
       "2    1  27.466667  1.233333  76.666667  0.0  0.0        0.0    0.0     2   \n",
       "3    1  27.300000  1.100000  78.000000  0.0  0.0        0.0    0.0     3   \n",
       "4    1  26.900000  1.166667  79.666667  0.0  0.0        0.0    0.0     4   \n",
       "\n",
       "   week  weekend  pred  \n",
       "0     1        0     1  \n",
       "1     1        0     1  \n",
       "2     1        0     1  \n",
       "3     1        0     1  \n",
       "4     1        0     1  "
      ]
     },
     "execution_count": 172,
     "metadata": {},
     "output_type": "execute_result"
    }
   ],
   "source": [
    "# 예측할 데이터\n",
    "X_test.head()"
   ]
  },
  {
   "cell_type": "code",
   "execution_count": 173,
   "metadata": {},
   "outputs": [],
   "source": [
    "y_submission = pd.DataFrame(best_estimator.predict(X_test))"
   ]
  },
  {
   "cell_type": "code",
   "execution_count": 174,
   "metadata": {},
   "outputs": [],
   "source": [
    "y_submission.to_csv('./y_submission.csv')"
   ]
  },
  {
   "cell_type": "code",
   "execution_count": null,
   "metadata": {},
   "outputs": [],
   "source": []
  },
  {
   "cell_type": "code",
   "execution_count": null,
   "metadata": {},
   "outputs": [],
   "source": []
  },
  {
   "cell_type": "code",
   "execution_count": null,
   "metadata": {},
   "outputs": [],
   "source": []
  }
 ],
 "metadata": {
  "kernelspec": {
   "display_name": "Python 3",
   "language": "python",
   "name": "python3"
  },
  "language_info": {
   "codemirror_mode": {
    "name": "ipython",
    "version": 3
   },
   "file_extension": ".py",
   "mimetype": "text/x-python",
   "name": "python",
   "nbconvert_exporter": "python",
   "pygments_lexer": "ipython3",
   "version": "3.8.5"
  }
 },
 "nbformat": 4,
 "nbformat_minor": 4
}
